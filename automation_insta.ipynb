{
 "cells": [
  {
   "cell_type": "markdown",
   "source": [
    "DOCS refrence (\"https://instagrambot.github.io/docs/en/For_developers.html#-follows\")\n",
    "PLEASE VIEW DOCS FOR DEVELOPERS BEFORE RUNNING ANY COMMAND...\n",
    "FILES REQUIRED FOR AUTOMATION IS LISTED IN config"
   ],
   "metadata": {}
  },
  {
   "cell_type": "markdown",
   "source": [
    "LOGIN AUTH"
   ],
   "metadata": {}
  },
  {
   "cell_type": "code",
   "execution_count": 1,
   "source": [
    "from instabot import Bot\n",
    "bot = Bot()\n",
    "bot.login(username=\"techcartels pls show some love\", password=\"magic is found after you subscribe\")\n",
    "#force — forses bot to re-login. False by default.\n",
    "#proxy — proxy server that bot would use during authentication.\n",
    "#use_cookie — means that bot would use cookies not to re-login every time it needs to push some request. Defaults as True.\n",
    "#cookie_fname — filename where cookies would be stored. Default value: cookie.txt."
   ],
   "outputs": [
    {
     "output_type": "stream",
     "name": "stderr",
     "text": [
      "2021-08-31 18:38:13,588 - INFO - Instabot version: 0.117.0 Started\n",
      "2021-08-31 18:38:13,591 - INFO - Not yet logged in starting: PRE-LOGIN FLOW!\n",
      "2021-08-31 18:38:17,655 - INFO - Logged-in successfully as 'techcartels.dots'!\n",
      "2021-08-31 18:38:17,655 - INFO - LOGIN FLOW! Just logged-in: True\n"
     ]
    },
    {
     "output_type": "execute_result",
     "data": {
      "text/plain": [
       "True"
      ]
     },
     "metadata": {},
     "execution_count": 1
    }
   ],
   "metadata": {}
  },
  {
   "cell_type": "markdown",
   "source": [
    "PHOTOS"
   ],
   "metadata": {}
  },
  {
   "cell_type": "code",
   "execution_count": null,
   "source": [
    "bot.upload_photo(\"magical.jpg\", caption=\"biscuit eating baby\")\n",
    "#bot.download_photo([\"123\", filename=\"somefile.jpg\") Downloads photo by id.\n",
    "#bot.download_photos([\"123\",\"345\"], \"photos\")|Downloads photos by ids into given folder."
   ],
   "outputs": [],
   "metadata": {}
  },
  {
   "cell_type": "markdown",
   "source": [
    "FOLLOWS"
   ],
   "metadata": {}
  },
  {
   "cell_type": "code",
   "execution_count": 2,
   "source": [
    "bot.follow(\"techcartels\")\n",
    "#bot.follow([\"activefollower1\", \"activefollower2\"])\n",
    "#bot.unfollow(\"competitor\")\n",
    "#bot.unfollow_users([\"competitor1\", \"competitor2\"])\n",
    "#bot.unfollow_non_followers()"
   ],
   "outputs": [
    {
     "output_type": "stream",
     "name": "stderr",
     "text": [
      "2021-08-31 18:38:36,195 - INFO - Going to follow `user_id` 36790599107.\n",
      "2021-08-31 18:38:37,327 - INFO - Followed `user_id` 36790599107.\n"
     ]
    },
    {
     "output_type": "stream",
     "name": "stdout",
     "text": [
      "\u001b[;1m\u001b[32mAdding '36790599107' to `/Users/pushpesh/IG_resolved/config/followed.txt`.\u001b[0m\u001b[0m\n",
      "\u001b[32m\n",
      "`bot.following` is empty, will download.\u001b[0m\n"
     ]
    },
    {
     "output_type": "stream",
     "name": "stderr",
     "text": [
      "Getting followings of 49315560969: 100%|██████████| 2/2 [00:00<00:00,  5.98it/s]\n"
     ]
    },
    {
     "output_type": "execute_result",
     "data": {
      "text/plain": [
       "True"
      ]
     },
     "metadata": {},
     "execution_count": 2
    }
   ],
   "metadata": {}
  },
  {
   "cell_type": "code",
   "execution_count": null,
   "source": [
    "bot.send_message(\"Hello from Dhaval\", ['user1','user2'])"
   ],
   "outputs": [],
   "metadata": {}
  },
  {
   "cell_type": "code",
   "execution_count": 3,
   "source": [
    "my_followers = bot.get_user_followers(\"techcartels.dots\")\n",
    "for follower in my_followers:\n",
    "    print(follower)"
   ],
   "outputs": [
    {
     "output_type": "stream",
     "name": "stderr",
     "text": [
      "Getting followers of 49315560969: 0it [00:00, ?it/s]\n"
     ]
    }
   ],
   "metadata": {}
  },
  {
   "cell_type": "code",
   "execution_count": null,
   "source": [
    "bot.unfollow_everyone()"
   ],
   "outputs": [],
   "metadata": {}
  },
  {
   "cell_type": "markdown",
   "source": [
    "LIKES"
   ],
   "metadata": {}
  },
  {
   "cell_type": "code",
   "execution_count": null,
   "source": [
    "bot.like(\"1231241210\") #media id\n",
    "#bot.like_medias([\"1323124\", \"123141245\"])\n",
    "bot.unlike(\"12321412512\") #media id\n",
    "#bot.unlike_medias([\"123\", \"321\"])\n",
    "bot.like_timeline()\n",
    "bot.like_user(\"activefollower\")#Like last user’s medias\n",
    "bot.like_hashtag(\"dog\")# Like last medias with hashtag\n",
    "bot.like_geotag"
   ],
   "outputs": [],
   "metadata": {}
  },
  {
   "cell_type": "markdown",
   "source": [
    "COMMENTS"
   ],
   "metadata": {}
  },
  {
   "cell_type": "code",
   "execution_count": null,
   "source": [
    "bot.get_media_comments(\"1941760781700579897\")# Get list of 20 latest media’s comments\n",
    "#media_id Id of post in Instagram that you want to fetch. See get_media_id_from_link.\n",
    "#only_text — option to get list with only text of each comment without additional information. Defaults as False.\n",
    "#get_media_comments_all #Same as get_media_comments, but with all comments.\n",
    "bot.get_comment(17848187965317794)#Get comment from comment file"
   ],
   "outputs": [],
   "metadata": {}
  }
 ],
 "metadata": {
  "orig_nbformat": 4,
  "language_info": {
   "name": "python",
   "version": "3.8.2",
   "mimetype": "text/x-python",
   "codemirror_mode": {
    "name": "ipython",
    "version": 3
   },
   "pygments_lexer": "ipython3",
   "nbconvert_exporter": "python",
   "file_extension": ".py"
  },
  "kernelspec": {
   "name": "python3",
   "display_name": "Python 3.8.2 64-bit"
  },
  "interpreter": {
   "hash": "31f2aee4e71d21fbe5cf8b01ff0e069b9275f58929596ceb00d14d90e3e16cd6"
  }
 },
 "nbformat": 4,
 "nbformat_minor": 2
}